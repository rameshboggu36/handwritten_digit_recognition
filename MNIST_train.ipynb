{
  "cells": [
    {
      "cell_type": "markdown",
      "metadata": {},
      "source": [
        "# Importing Packages"
      ]
    },
    {
      "cell_type": "code",
      "execution_count": 12,
      "metadata": {
        "id": "AuKIhLhgozO9"
      },
      "outputs": [],
      "source": [
        "import torch\n",
        "from torchvision import datasets\n",
        "from torch.optim import Adam\n",
        "from torch import nn\n",
        "from torchvision.transforms import transforms\n",
        "from torch.utils.data import DataLoader\n",
        "from tqdm import tqdm\n",
        "from torch.nn import functional as F\n",
        "\n",
        "import numpy as np"
      ]
    },
    {
      "cell_type": "code",
      "execution_count": null,
      "metadata": {
        "id": "3opQ4vBaoxkO"
      },
      "outputs": [],
      "source": [
        "# class classificationModel(nn.Module):\n",
        "#     def __init__(self, *args, **kwargs) -> None:\n",
        "#         super(classificationModel, self).__init__(*args, **kwargs)\n",
        "\n",
        "#         self.conv_block1 = self.conv_block(1,16,kernel_size=3,padding=1)\n",
        "#         self.conv_block2 = self.conv_block(16,32,kernel_size=3,padding=0)\n",
        "#         # self.conv_block3 = self.conv_block(32,64,kernel_size=3,padding=0)\n",
        "#         # self.linear2 = nn.Linear(512, 512)\n",
        "#         self.linear3 = nn.Linear(512, 10)\n",
        "#         self.softmax = nn.Softmax(dim=1)\n",
        "\n",
        "\n",
        "#     def conv_block(self,in_ch,op_ch,kernel_size=3,padding=0):\n",
        "#         return nn.Sequential(\n",
        "#             nn.Conv2d(in_ch, op_ch, kernel_size=kernel_size, padding=padding),\n",
        "#             nn.LeakyReLU(0.1,inplace=True),\n",
        "#             # nn.BatchNorm2d(op_ch)\n",
        "#         )\n",
        "\n",
        "#     def forward(self, x):\n",
        "#         x = self.conv_block1(x)\n",
        "#         x = nn.MaxPool2d(2)(x)\n",
        "#         x = self.conv_block2(x)\n",
        "#         # op3 = self.conv_block3(op2)\n",
        "#         x = x.view(x.size()[0],-1)\n",
        "#         x = nn.Dropout(0.2)(x)\n",
        "#         x = nn.Linear(x.size()[1],512)(x)\n",
        "#         x = self.linear3(x)\n",
        "\n",
        "#         x = self.softmax(x)\n",
        "#         return x\n",
        "\n"
      ]
    },
    {
      "cell_type": "markdown",
      "metadata": {},
      "source": [
        "## Deep Learning model for MNIST Classification"
      ]
    },
    {
      "cell_type": "code",
      "execution_count": 13,
      "metadata": {
        "id": "76Ana8eg1pj-"
      },
      "outputs": [],
      "source": [
        "\n",
        "class MNISTmodel(nn.Module):\n",
        "    def __init__(self):\n",
        "        super().__init__()\n",
        "        self.conv1 = nn.Conv2d(1, 2, 5)\n",
        "        self.pool = nn.MaxPool2d(2, 2)\n",
        "        self.conv2 = nn.Conv2d(2, 6, 5)\n",
        "        self.fc1 = nn.Linear(96, 32)\n",
        "        self.fc2 = nn.Linear(32, 10)\n",
        "\n",
        "    def forward(self, x):\n",
        "        x = self.pool(F.relu(self.conv1(x)))\n",
        "        x = self.pool(F.relu(self.conv2(x)))\n",
        "        x = x.view(-1, 96)\n",
        "        x = F.relu(self.fc1(x))\n",
        "        x = self.fc2(x)\n",
        "        x = nn.Softmax(dim=1)(x)\n",
        "        return x"
      ]
    },
    {
      "cell_type": "markdown",
      "metadata": {},
      "source": [
        "## Data Download and arrangement"
      ]
    },
    {
      "cell_type": "code",
      "execution_count": 14,
      "metadata": {
        "id": "4h8HOjoJozLz"
      },
      "outputs": [],
      "source": [
        "loss = nn.CrossEntropyLoss()\n",
        "batchSize = 64\n",
        "\n",
        "data = datasets.MNIST(\"./\",train=True,\n",
        "                      download=True,\n",
        "                      transform=transforms.ToTensor())\n",
        "\n",
        "\n",
        "dataLoader = DataLoader(data,\n",
        "                        batch_size=batchSize,\n",
        "                        shuffle=True)\n",
        "\n",
        "model = MNISTmodel()\n",
        "\n",
        "def weights_init(m):\n",
        "    if isinstance(m, nn.Conv2d):\n",
        "        torch.nn.init.normal_(m.weight,0.0,0.02)\n",
        "\n",
        "    if isinstance(m, nn.BatchNorm2d):\n",
        "        torch.nn.init.normal_(m.weight, 0.0,0.02)\n",
        "        torch.nn.init.constant_(m.bias, 0.0)\n",
        "\n",
        "model = model.apply(weights_init)\n",
        "optimizer = Adam(model.parameters(),lr=1e-4)"
      ]
    },
    {
      "cell_type": "markdown",
      "metadata": {},
      "source": [
        "## Training the model "
      ]
    },
    {
      "cell_type": "code",
      "execution_count": 15,
      "metadata": {
        "id": "NV_ZJanisXjc"
      },
      "outputs": [
        {
          "name": "stderr",
          "output_type": "stream",
          "text": [
            "Training for the epoch-0: 100%|██████████| 938/938 [00:22<00:00, 40.88it/s]\n"
          ]
        },
        {
          "name": "stdout",
          "output_type": "stream",
          "text": [
            "The value at current epoch is 2.238879053831609\n",
            "The acc at current epoch is 0.2163\n"
          ]
        },
        {
          "name": "stderr",
          "output_type": "stream",
          "text": [
            "Training for the epoch-1: 100%|██████████| 938/938 [00:22<00:00, 42.09it/s]\n"
          ]
        },
        {
          "name": "stdout",
          "output_type": "stream",
          "text": [
            "The value at current epoch is 1.8934142810703596\n",
            "The acc at current epoch is 0.6205333333333334\n"
          ]
        },
        {
          "name": "stderr",
          "output_type": "stream",
          "text": [
            "Training for the epoch-2: 100%|██████████| 938/938 [00:32<00:00, 29.19it/s]\n"
          ]
        },
        {
          "name": "stdout",
          "output_type": "stream",
          "text": [
            "The value at current epoch is 1.7163875343194648\n",
            "The acc at current epoch is 0.78595\n"
          ]
        },
        {
          "name": "stderr",
          "output_type": "stream",
          "text": [
            "Training for the epoch-3: 100%|██████████| 938/938 [00:26<00:00, 35.74it/s]\n"
          ]
        },
        {
          "name": "stdout",
          "output_type": "stream",
          "text": [
            "The value at current epoch is 1.6467701983350171\n",
            "The acc at current epoch is 0.84365\n"
          ]
        },
        {
          "name": "stderr",
          "output_type": "stream",
          "text": [
            "Training for the epoch-4: 100%|██████████| 938/938 [00:27<00:00, 34.30it/s]\n"
          ]
        },
        {
          "name": "stdout",
          "output_type": "stream",
          "text": [
            "The value at current epoch is 1.6162068388863666\n",
            "The acc at current epoch is 0.86395\n"
          ]
        },
        {
          "name": "stderr",
          "output_type": "stream",
          "text": [
            "Training for the epoch-5: 100%|██████████| 938/938 [00:28<00:00, 32.50it/s]\n"
          ]
        },
        {
          "name": "stdout",
          "output_type": "stream",
          "text": [
            "The value at current epoch is 1.599891566137261\n",
            "The acc at current epoch is 0.8749\n"
          ]
        },
        {
          "name": "stderr",
          "output_type": "stream",
          "text": [
            "Training for the epoch-6: 100%|██████████| 938/938 [00:20<00:00, 46.55it/s]\n"
          ]
        },
        {
          "name": "stdout",
          "output_type": "stream",
          "text": [
            "The value at current epoch is 1.5890916373683954\n",
            "The acc at current epoch is 0.8829166666666667\n"
          ]
        },
        {
          "name": "stderr",
          "output_type": "stream",
          "text": [
            "Training for the epoch-7: 100%|██████████| 938/938 [00:19<00:00, 48.50it/s]\n"
          ]
        },
        {
          "name": "stdout",
          "output_type": "stream",
          "text": [
            "The value at current epoch is 1.5812034923384692\n",
            "The acc at current epoch is 0.8886\n"
          ]
        },
        {
          "name": "stderr",
          "output_type": "stream",
          "text": [
            "Training for the epoch-8: 100%|██████████| 938/938 [00:18<00:00, 50.35it/s]\n"
          ]
        },
        {
          "name": "stdout",
          "output_type": "stream",
          "text": [
            "The value at current epoch is 1.5748182221262186\n",
            "The acc at current epoch is 0.8937\n"
          ]
        },
        {
          "name": "stderr",
          "output_type": "stream",
          "text": [
            "Training for the epoch-9: 100%|██████████| 938/938 [00:22<00:00, 41.47it/s]\n"
          ]
        },
        {
          "name": "stdout",
          "output_type": "stream",
          "text": [
            "The value at current epoch is 1.5695289726704678\n",
            "The acc at current epoch is 0.8986833333333333\n"
          ]
        },
        {
          "name": "stderr",
          "output_type": "stream",
          "text": [
            "Training for the epoch-10: 100%|██████████| 938/938 [00:19<00:00, 48.32it/s]\n"
          ]
        },
        {
          "name": "stdout",
          "output_type": "stream",
          "text": [
            "The value at current epoch is 1.5652424806216632\n",
            "The acc at current epoch is 0.9021\n"
          ]
        },
        {
          "name": "stderr",
          "output_type": "stream",
          "text": [
            "Training for the epoch-11: 100%|██████████| 938/938 [00:18<00:00, 51.12it/s]\n"
          ]
        },
        {
          "name": "stdout",
          "output_type": "stream",
          "text": [
            "The value at current epoch is 1.5611240444407026\n",
            "The acc at current epoch is 0.9057833333333334\n"
          ]
        },
        {
          "name": "stderr",
          "output_type": "stream",
          "text": [
            "Training for the epoch-12: 100%|██████████| 938/938 [00:18<00:00, 51.06it/s]\n"
          ]
        },
        {
          "name": "stdout",
          "output_type": "stream",
          "text": [
            "The value at current epoch is 1.55603299517113\n",
            "The acc at current epoch is 0.9106833333333333\n"
          ]
        },
        {
          "name": "stderr",
          "output_type": "stream",
          "text": [
            "Training for the epoch-13: 100%|██████████| 938/938 [00:18<00:00, 50.68it/s]\n"
          ]
        },
        {
          "name": "stdout",
          "output_type": "stream",
          "text": [
            "The value at current epoch is 1.551386865344383\n",
            "The acc at current epoch is 0.9149333333333334\n"
          ]
        },
        {
          "name": "stderr",
          "output_type": "stream",
          "text": [
            "Training for the epoch-14: 100%|██████████| 938/938 [00:22<00:00, 42.35it/s]\n"
          ]
        },
        {
          "name": "stdout",
          "output_type": "stream",
          "text": [
            "The value at current epoch is 1.5469716848340878\n",
            "The acc at current epoch is 0.91915\n"
          ]
        },
        {
          "name": "stderr",
          "output_type": "stream",
          "text": [
            "Training for the epoch-15: 100%|██████████| 938/938 [00:19<00:00, 48.37it/s]\n"
          ]
        },
        {
          "name": "stdout",
          "output_type": "stream",
          "text": [
            "The value at current epoch is 1.5430535728743335\n",
            "The acc at current epoch is 0.9231833333333334\n"
          ]
        },
        {
          "name": "stderr",
          "output_type": "stream",
          "text": [
            "Training for the epoch-16: 100%|██████████| 938/938 [00:20<00:00, 45.66it/s]\n"
          ]
        },
        {
          "name": "stdout",
          "output_type": "stream",
          "text": [
            "The value at current epoch is 1.5395142654620253\n",
            "The acc at current epoch is 0.9264666666666667\n"
          ]
        },
        {
          "name": "stderr",
          "output_type": "stream",
          "text": [
            "Training for the epoch-17: 100%|██████████| 938/938 [00:18<00:00, 50.79it/s]\n"
          ]
        },
        {
          "name": "stdout",
          "output_type": "stream",
          "text": [
            "The value at current epoch is 1.5360994795238032\n",
            "The acc at current epoch is 0.9293666666666667\n"
          ]
        },
        {
          "name": "stderr",
          "output_type": "stream",
          "text": [
            "Training for the epoch-18: 100%|██████████| 938/938 [00:18<00:00, 50.41it/s]\n"
          ]
        },
        {
          "name": "stdout",
          "output_type": "stream",
          "text": [
            "The value at current epoch is 1.5329846156431413\n",
            "The acc at current epoch is 0.9325333333333333\n"
          ]
        },
        {
          "name": "stderr",
          "output_type": "stream",
          "text": [
            "Training for the epoch-19: 100%|██████████| 938/938 [00:18<00:00, 51.15it/s]"
          ]
        },
        {
          "name": "stdout",
          "output_type": "stream",
          "text": [
            "The value at current epoch is 1.53017066930657\n",
            "The acc at current epoch is 0.9348166666666666\n"
          ]
        },
        {
          "name": "stderr",
          "output_type": "stream",
          "text": [
            "\n"
          ]
        }
      ],
      "source": [
        "n_epochs = 20\n",
        "loss_per_epoch = []\n",
        "acc_per_epoch = []\n",
        "total = 0\n",
        "correct = 0\n",
        "for i in range(n_epochs):\n",
        "    for images, labels in tqdm(dataLoader,f\"Training for the epoch-{i}\"):\n",
        "        optimizer.zero_grad()\n",
        "        y_pred = model(images)\n",
        "        loss_val = loss(y_pred, labels)\n",
        "        loss_val.backward()\n",
        "        optimizer.step()\n",
        "        _, predicted = torch.max(y_pred, 1)\n",
        "        total += labels.size(0)\n",
        "        correct += (predicted == labels).sum().item()\n",
        "        loss_per_epoch.append(loss_val.item())\n",
        "    print(\"The loss at current epoch is\",np.mean(np.array(loss_per_epoch)))\n",
        "    print(\"The acc at current epoch is\",correct/total)\n",
        "    total = 0\n",
        "    correct = 0\n",
        "    loss_per_epoch.clear()"
      ]
    },
    {
      "cell_type": "markdown",
      "metadata": {},
      "source": [
        "## Testing and saving the model"
      ]
    },
    {
      "cell_type": "code",
      "execution_count": 16,
      "metadata": {
        "id": "gbJ-rPjdz16b"
      },
      "outputs": [],
      "source": [
        "test_data = DataLoader(datasets.MNIST(root=\"./\",\n",
        "                                      train=False,\n",
        "                                      download=False,\n",
        "                                      transform=transforms.ToTensor()\n",
        "                                      ),\n",
        "                       batch_size=32,\n",
        "                       shuffle=True)"
      ]
    },
    {
      "cell_type": "code",
      "execution_count": 17,
      "metadata": {
        "id": "f8Y5lzHc_WXP"
      },
      "outputs": [
        {
          "name": "stdout",
          "output_type": "stream",
          "text": [
            "test_acc is : 0.9408\n"
          ]
        }
      ],
      "source": [
        "model.eval()\n",
        "total = 0\n",
        "correct = 0\n",
        "for imgs,labels in test_data:\n",
        "  test_pred = model(imgs)\n",
        "  _, predicted = torch.max(test_pred, 1)\n",
        "  total += labels.size(0)\n",
        "  correct += (predicted == labels).sum().item()\n",
        "print(\"test_acc is :\", correct/total)"
      ]
    },
    {
      "cell_type": "code",
      "execution_count": null,
      "metadata": {
        "id": "HAX_S0vGBfjw"
      },
      "outputs": [],
      "source": [
        "torch.save(model, \"MNIST.pt\")\n",
        "model = torch.load(\"MNIST.pt\")"
      ]
    }
  ],
  "metadata": {
    "accelerator": "TPU",
    "colab": {
      "private_outputs": true,
      "provenance": []
    },
    "kernelspec": {
      "display_name": "Python 3",
      "name": "python3"
    },
    "language_info": {
      "codemirror_mode": {
        "name": "ipython",
        "version": 3
      },
      "file_extension": ".py",
      "mimetype": "text/x-python",
      "name": "python",
      "nbconvert_exporter": "python",
      "pygments_lexer": "ipython3",
      "version": "3.10.10"
    }
  },
  "nbformat": 4,
  "nbformat_minor": 0
}
